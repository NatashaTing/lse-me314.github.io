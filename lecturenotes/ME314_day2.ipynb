{
 "cells": [
  {
   "cell_type": "markdown",
   "metadata": {
    "slideshow": {
     "slide_type": "slide"
    }
   },
   "source": [
    "### ME314 Introduction to Data Science and Machine Learning\n",
    "\n",
    "# The Shape of Data\n",
    "\n",
    "### Day 2 Lecture, 30 July 2019 - Kenneth Benoit"
   ]
  },
  {
   "cell_type": "code",
   "execution_count": 20,
   "metadata": {},
   "outputs": [],
   "source": [
    "library(\"reshape2\")"
   ]
  },
  {
   "cell_type": "markdown",
   "metadata": {
    "slideshow": {
     "slide_type": "slide"
    }
   },
   "source": [
    "# Plan today\n",
    "\n",
    "* The nature of data\n",
    "* Units of data\n",
    "* Data types\n",
    "* More about `git`\n",
    "* Representing text data: Unicode\n",
    "* Representing dates\n",
    "* Representing sparse matrix formats\n",
    "* Data and datasets\n",
    "    * \"tidy\" data\n",
    "    * reshaping data\n",
    "    * normalization forms\n",
    "* Lab preview"
   ]
  },
  {
   "cell_type": "markdown",
   "metadata": {
    "slideshow": {
     "slide_type": "slide"
    }
   },
   "source": [
    "## Data is Fundamental\n",
    "\n",
    "\n",
    "> _\"You can have data without information, but you cannot have information without data.\"_ – Daniel Keys Moran, an American computer programmer and science fiction writer.\n",
    "\n"
   ]
  },
  {
   "cell_type": "markdown",
   "metadata": {
    "slideshow": {
     "slide_type": "fragment"
    }
   },
   "source": [
    "> _\"In God we trust. All others must bring data.\"_ – W. Edwards Deming, statistician, professor, author, lecturer, and consultant."
   ]
  },
  {
   "cell_type": "markdown",
   "metadata": {
    "slideshow": {
     "slide_type": "slide"
    }
   },
   "source": [
    "# Structured data: Index cards\n",
    "\n",
    "* Origins in the 19th century, with botanist [Carl Linnaeus](https://en.wikipedia.org/wiki/Carl_Linnaeus), who needed to record species that he was studying\n",
    "\n",
    "* This was a form of _database_\n",
    "    - each piece of information about a species formed a _field_\n",
    "    - each species' entry in the system formed a _record_\n",
    "    - the records were _indexed_ using some reference system"
   ]
  },
  {
   "cell_type": "markdown",
   "metadata": {
    "slideshow": {
     "slide_type": "slide"
    }
   },
   "source": [
    "### Heyday: Use in libraries to catalog books\n",
    "\n",
    "![card catalog](figs/cardcatalog.jpg \"Card catalog\") ![card catalog room](figs/cardcatalog3.jpg \"Card catalog room\")\n",
    "    "
   ]
  },
  {
   "cell_type": "markdown",
   "metadata": {
    "slideshow": {
     "slide_type": "slide"
    }
   },
   "source": [
    "### a record looked like this\n",
    "\n",
    "![card record](figs/cardcatalog2.jpg \"Card record\")"
   ]
  },
  {
   "cell_type": "markdown",
   "metadata": {
    "slideshow": {
     "slide_type": "slide"
    }
   },
   "source": [
    "## Dewey decimal system\n",
    "\n",
    "* a proprietary library classification system first published in the United States by Melvil Dewey in 1876\n",
    "* scheme is made up of ten classes, each divided into ten divisions, each having ten sections\n",
    "* the system's notation uses Arabic numbers, with three whole numbers making up the main classes and sub-classes and decimals creating further divisions\n"
   ]
  },
  {
   "cell_type": "markdown",
   "metadata": {
    "slideshow": {
     "slide_type": "fragment"
    }
   },
   "source": [
    "* Example:\n",
    "\n",
    "    ```\n",
    "    500 Natural sciences and mathematics\n",
    "        510 Mathematics\n",
    "            516 Geometry\n",
    "                516.3 Analytic geometries\n",
    "                    516.37 Metric differential geometries\n",
    "                        516.375 Finsler Geometry\n",
    "    ```"
   ]
  },
  {
   "cell_type": "markdown",
   "metadata": {
    "slideshow": {
     "slide_type": "slide"
    }
   },
   "source": [
    "# How to index?\n",
    "\n",
    "* Problem: Could only sort the cards one way\n",
    "* Re-referencing was literally a manual operation"
   ]
  },
  {
   "cell_type": "markdown",
   "metadata": {
    "slideshow": {
     "slide_type": "slide"
    }
   },
   "source": [
    "* Contrast with the idea of electronic indexes, where assets are stored once, and many indexing and reference systems can be applied\n",
    "    ![photos](figs/photos.png \"Apple Photos\")\n",
    "* In most photographic software, edits are \"non-destructive\", and stored separately from the original images"
   ]
  },
  {
   "cell_type": "markdown",
   "metadata": {
    "slideshow": {
     "slide_type": "slide"
    }
   },
   "source": [
    "## Modern database manager\n",
    "\n",
    "* \"Normalizes\" data into relational tables, linked by \"keys\" (more on this in [Week 3](https://lse-st445.github.io/#week-3-creating-and-managing-databases))\n",
    "\n",
    "    ![relational data](figs/relational_data.png \"Relational data\")\n"
   ]
  },
  {
   "cell_type": "markdown",
   "metadata": {
    "slideshow": {
     "slide_type": "slide"
    }
   },
   "source": [
    "## Punch cards (and legacy systems)\n",
    "\n",
    "* How we used to enter programs into the computer\n",
    "   ![punch card](figs/punchard.jpg \"Punchcard\")\n",
    "* Pre-computer origins: 18-th century use in textile looms\n",
    "* Responsible for the 80-character legacy\n"
   ]
  },
  {
   "cell_type": "markdown",
   "metadata": {
    "slideshow": {
     "slide_type": "slide"
    }
   },
   "source": [
    "### Who knows what this is?\n",
    "\n",
    "![piano roll](figs/pianoroll2.jpg \"Piano roll\")"
   ]
  },
  {
   "cell_type": "markdown",
   "metadata": {
    "slideshow": {
     "slide_type": "notes"
    }
   },
   "source": [
    "That is a [piano roll](https://en.wikipedia.org/wiki/Piano_roll), where music to be played by a [player piano](https://en.wikipedia.org/wiki/Player_piano) is encoded."
   ]
  },
  {
   "cell_type": "markdown",
   "metadata": {
    "slideshow": {
     "slide_type": "slide"
    }
   },
   "source": [
    "# The point: Information is more than data\n",
    "\n",
    "### Data\n",
    "\n",
    "* raw, unorganized facts that need to be processed\n",
    "* unusable until it is organized\n",
    "\n",
    "### Information\n",
    "\n",
    "* created when data is processed, organized, structured\n",
    "* needs to be situated in an appropriate _context_ in order to become useful\n",
    "\n",
    "### There are important differences in how humans and computers treat data as information\n",
    "\n"
   ]
  },
  {
   "cell_type": "markdown",
   "metadata": {
    "slideshow": {
     "slide_type": "slide"
    }
   },
   "source": [
    "# Changes in the world of data\n",
    "\n",
    "* volume of data in the modern world: 90% of the world's data [generated in the last _two years_](https://www.sciencedaily.com/releases/2013/05/130522085217.htm)\n"
   ]
  },
  {
   "cell_type": "markdown",
   "metadata": {
    "slideshow": {
     "slide_type": "fragment"
    }
   },
   "source": [
    "* and that was _in 2013_"
   ]
  },
  {
   "cell_type": "markdown",
   "metadata": {
    "slideshow": {
     "slide_type": "fragment"
    }
   },
   "source": [
    "* SKA: Square Kilometer Array\n",
    "    - a southern hemisphere radio telescope with a total of 1 km$^2$ of data sensors\n",
    "    - will generate 1 exabyte _daily_ = $1 \\times 10^{18}$ bytes\n",
    "    - = 1,000,000,000,000,000,000 bytes"
   ]
  },
  {
   "cell_type": "markdown",
   "metadata": {
    "slideshow": {
     "slide_type": "slide"
    }
   },
   "source": [
    "* compare this with the Apollo Guidance Computer (1966), which guided the first humans to the moon\n",
    "    - 16-bit wordlength, 2048 words RAM (magnetic core memory) = _4KB_\n",
    "    - 36,864 words ROM (core rope memory) = _73KB_\n",
    "    ![](figs/agc.jpg)\n"
   ]
  },
  {
   "cell_type": "markdown",
   "metadata": {
    "slideshow": {
     "slide_type": "slide"
    }
   },
   "source": [
    "# Basic units of data\n",
    "\n",
    "* Bits\n",
    "   - smallest unit of storage, a 0 or 1\n",
    "   - anything that can store two states - now \"transistors\", used to be vacuum tubes\n",
    "   - with $n$ bits, can store $2^n$ patterns - so one byte can store 256 patterns\n",
    "   > N: only if n = 8\n"
   ]
  },
  {
   "cell_type": "markdown",
   "metadata": {
    "slideshow": {
     "slide_type": "slide"
    }
   },
   "source": [
    "* Bytes\n",
    "   - eight _bits_ = one _byte_\n",
    "   - \"eight bit encoding\" - represented characters, such as `A` represented as 65\n",
    "   \n",
    "  ![ASCII](figs/ASCII.png)"
   ]
  },
  {
   "cell_type": "markdown",
   "metadata": {
    "slideshow": {
     "slide_type": "slide"
    }
   },
   "source": [
    "### multi-byte units\n",
    "\n",
    "| unit     | abbreviation | total bytes  | nearest decimal equivalent |\n",
    "|:--------:|:------------:|-------------:|---------------------------:|\n",
    "| kilobyte |     KB       | 1,024^1      |             1000^1         |\n",
    "| megabyte |     MB       | 1,024^2      |             1000^2         |\n",
    "| gigabyte |     GB       | 1,024^3      |             1000^3         |\n",
    "| terabyte |     TB       | 1,024^4      |             1000^4         |\n",
    "| petabyte |     PB       | 1,024^5      |             1000^5         |\n",
    "| exabyte  |     EB       | 1,024^6      |             1000^6         |\n",
    "| zettabyte|     ZB       | 1,024^7      |             1000^7         |\n",
    "| yottabyte|     YB       | 1,024^8      |             1000^8         |\n",
    "\n",
    "* this is why 1GB is greater than 1 billion bytes"
   ]
  },
  {
   "cell_type": "markdown",
   "metadata": {
    "slideshow": {
     "slide_type": "slide"
    }
   },
   "source": [
    "![decimal v. binary](figs/decimalvbinary.png)"
   ]
  },
  {
   "cell_type": "markdown",
   "metadata": {
    "slideshow": {
     "slide_type": "slide"
    }
   },
   "source": [
    "# Data types: Generically\n",
    "\n",
    "* objects are _bound_ to an identifier, e.g."
   ]
  },
  {
   "cell_type": "code",
   "execution_count": 22,
   "metadata": {
    "slideshow": {
     "slide_type": "fragment"
    }
   },
   "outputs": [
    {
     "data": {
      "text/html": [
       "'numeric'"
      ],
      "text/latex": [
       "'numeric'"
      ],
      "text/markdown": [
       "'numeric'"
      ],
      "text/plain": [
       "[1] \"numeric\""
      ]
     },
     "metadata": {},
     "output_type": "display_data"
    }
   ],
   "source": [
    "temperature = 98.6\n",
    "class(temperature)"
   ]
  },
  {
   "cell_type": "markdown",
   "metadata": {
    "slideshow": {
     "slide_type": "fragment"
    }
   },
   "source": [
    "* here, `temperature` is a variable name assigned to the literal floating-point object with the value of 98.6\n",
    "* in Python, this is an instance of the **float** class\n",
    "* identifiers in R and Python are _case-sensitive_\n",
    "* some identifiers are typically reserved, e.g.\n",
    "    ```Python\n",
    "    False, True, None, or, and  # Python\n",
    "    FALSE, TRUE, NA             # R\n",
    "    ```"
   ]
  },
  {
   "cell_type": "markdown",
   "metadata": {
    "slideshow": {
     "slide_type": "fragment"
    }
   },
   "source": [
    "* All programming languages use comments, for humans to read\n",
    "    - this is anything that follows the `#` character in both Python and R\n",
    "\n",
    "> \"Let us change our traditional attitude to the construction of programs: Instead of imagining that our main task is to instruct a computer what to do, let us concentrate rather on explaining to human beings what we want a computer to do.\"  -- Donald Knuth, _Literate Programming_ (1984)"
   ]
  },
  {
   "cell_type": "markdown",
   "metadata": {
    "slideshow": {
     "slide_type": "slide"
    }
   },
   "source": [
    "### Instantiation\n",
    "\n",
    "* objects have _classes_, meaning they represent a \"type\" of object\n",
    "* _instantiation_ means creating a new instance of that class"
   ]
  },
  {
   "cell_type": "markdown",
   "metadata": {
    "slideshow": {
     "slide_type": "fragment"
    }
   },
   "source": [
    "* \"immutable\" objects cannot be subsequently changed\n",
    "    \n",
    "| **Python class** | **Immutable** | **Description**                   |  **R class** |\n",
    "|:-----------------|:-------------:|:----------------------------------|:------------:|\n",
    "| bool             |      Yes      | Boolean value                     |    logical   |\n",
    "| int              |      Yes      | integer number                    |    integer   |\n",
    "| float            |      Yes      | floating-point number             |    numeric   |\n",
    "| list             |       No      | mutable sequence of objects       |     list     |\n",
    "| tuple            |      Yes      | immutable sequence of objects     |       -      |\n",
    "| str              |      Yes      | character string                  |   character  |\n",
    "| set              |       No      | unordered set of distinct objects |       -      |\n",
    "| frozenset        |      Yes      | immutable form of set class       |       -      |\n",
    "| dict             |       No      | dictionary                        | (named) list |"
   ]
  },
  {
   "cell_type": "markdown",
   "metadata": {},
   "source": [
    "N: \n",
    "- list can hold many data type\n",
    "- an array is a vector in R that: \n",
    "    - has dimension that's wrapped around a matrix \n",
    "        - e.g. 2-dimensional array\n",
    "        - 3-dimensional array\n",
    "- "
   ]
  },
  {
   "cell_type": "markdown",
   "metadata": {
    "slideshow": {
     "slide_type": "slide"
    }
   },
   "source": [
    "# How to index data\n",
    "\n",
    "* Endian debate\n",
    "   - Big Endian Byte Order: The most significant byte (the \"big end\") of the data is placed at the byte with the lowest address\n",
    "    - Little Endian Byte Order: The least significant byte (the \"little end\") of the data is placed at the byte with the lowest address\n",
    "    - Comes from _Gulliver's Travels_"
   ]
  },
  {
   "cell_type": "markdown",
   "metadata": {
    "slideshow": {
     "slide_type": "slide"
    }
   },
   "source": [
    "### (indexing data cont.)\n",
    "\n",
    "* index from 0 or from 1?\n",
    "\n",
    "   - where an index begins counting, when addressing elements of a data object\n",
    "   - [most languages index from 0](https://en.wikipedia.org/wiki/Comparison_of_programming_languages_%28array%29#Array_system_cross-reference_list)\n",
    "   - human ages - do they index from 0?"
   ]
  },
  {
   "cell_type": "code",
   "execution_count": 23,
   "metadata": {
    "slideshow": {
     "slide_type": "fragment"
    }
   },
   "outputs": [
    {
     "data": {
      "text/html": [
       "<ol class=list-inline>\n",
       "\t<li>'Hello World'</li>\n",
       "\t<li>NA</li>\n",
       "\t<li>NA</li>\n",
       "\t<li>NA</li>\n",
       "\t<li>NA</li>\n",
       "</ol>\n"
      ],
      "text/latex": [
       "\\begin{enumerate*}\n",
       "\\item 'Hello World'\n",
       "\\item NA\n",
       "\\item NA\n",
       "\\item NA\n",
       "\\item NA\n",
       "\\end{enumerate*}\n"
      ],
      "text/markdown": [
       "1. 'Hello World'\n",
       "2. NA\n",
       "3. NA\n",
       "4. NA\n",
       "5. NA\n",
       "\n",
       "\n"
      ],
      "text/plain": [
       "[1] \"Hello World\" NA            NA            NA            NA           "
      ]
     },
     "metadata": {},
     "output_type": "display_data"
    }
   ],
   "source": [
    "string_example = \"Hello World\"\n",
    "string_example[0:5]"
   ]
  },
  {
   "cell_type": "markdown",
   "metadata": {
    "slideshow": {
     "slide_type": "fragment"
    }
   },
   "source": [
    "* Python indexes from 0, R from 1.  See [R example here](R_indexing.ipynb)\n"
   ]
  },
  {
   "cell_type": "markdown",
   "metadata": {
    "slideshow": {
     "slide_type": "slide"
    }
   },
   "source": [
    "# git\n",
    "\n",
    "* `git`: a revision control system\n",
    "* Allows for complete history of changes, branching, staging areas, and flexible and distributed workflows\n",
    "* simplified workflow (from [Anita Cheng's excellent blog post](http://anitacheng.com/git-for-non-developers))\n",
    "\n",
    "   ![](figs/git.jpg)"
   ]
  },
  {
   "cell_type": "markdown",
   "metadata": {
    "slideshow": {
     "slide_type": "slide"
    }
   },
   "source": [
    "* Works through the command line, or through GUI clients, or through most IDEs and (good) editors\n",
    "\n",
    "![command-line git](figs/commandgit.png \"command-line git\")"
   ]
  },
  {
   "cell_type": "markdown",
   "metadata": {
    "slideshow": {
     "slide_type": "slide"
    }
   },
   "source": [
    "* or through editors (here, the excellent [Atom](https://atom.io) editor)\n",
    "\n",
    "    ![atom git](figs/gitatom.png \"atom git\")"
   ]
  },
  {
   "cell_type": "markdown",
   "metadata": {
    "slideshow": {
     "slide_type": "slide"
    }
   },
   "source": [
    "# GitHub\n",
    "\n",
    "* a website and hosting platform for git repositories"
   ]
  },
  {
   "cell_type": "markdown",
   "metadata": {
    "slideshow": {
     "slide_type": "fragment"
    }
   },
   "source": [
    "* and so much more...\n",
    "    * publishing websites: http://kenbenoit.net, whose source code is at https://github.com/kbenoit/kbenoit.github.io\n",
    "    * \"continous integration\" hooks: https://github.com/kbenoit/spacyr (for instance - see the badges)\n",
    "    * Issue tracking: https://github.com/kbenoit/spacyr/issues\n",
    "    * Inspecting code: (e.g.) https://github.com/kbenoit/spacyr/blob/master/R/python-functions.R"
   ]
  },
  {
   "cell_type": "markdown",
   "metadata": {
    "slideshow": {
     "slide_type": "fragment"
    }
   },
   "source": [
    "* [GitHub classroom](https://classroom.github.com)\n",
    "* Free stuff for students! https://education.github.com/pack\n"
   ]
  },
  {
   "cell_type": "markdown",
   "metadata": {
    "slideshow": {
     "slide_type": "slide"
    }
   },
   "source": [
    "# More great resources for using git/GitHub\n",
    "\n",
    "* [An easy git Cheatsheet](http://rogerdudler.github.io/git-guide/files/git_cheat_sheet.pdf), by Nina Jaeschke and Roger Dudler \n",
    "* [git - the simple guide](http://rogerdudler.github.io/git-guide/) by Roger Dudler"
   ]
  },
  {
   "cell_type": "markdown",
   "metadata": {
    "slideshow": {
     "slide_type": "fragment"
    }
   },
   "source": [
    "### Some people have entire, open-source, user-commented books online, such as: \n",
    "\n",
    "* [_R for Data Science_](http://r4ds.had.co.nz)\n",
    "    - with [source code here](https://github.com/hadley/r4ds)\n",
    "    - with [GitHub issues here](https://github.com/hadley/r4ds/issues)\n",
    "    - and pull requests - [examples here](https://github.com/hadley/r4ds/pulls)"
   ]
  },
  {
   "cell_type": "markdown",
   "metadata": {
    "slideshow": {
     "slide_type": "slide"
    }
   },
   "source": [
    "# Markdown (and other markup languages)\n",
    "\n",
    "* Idea of a \"markup\" language: HTML, XML, LaTeX\n",
    "* \"Markdown\"\n",
    "    - Created by John Gruber as a simple way for non-programming types to write in an easy-to-read format that could be converted directly into HTML\n",
    "    - No opening or closing tags\n",
    "    - Plain text, and can be read when not rendered\n",
    "* Markdown has [many \"flavours\"](https://github.com/commonmark/CommonMark/wiki/Markdown-Flavors)"
   ]
  },
  {
   "cell_type": "markdown",
   "metadata": {
    "slideshow": {
     "slide_type": "slide"
    }
   },
   "source": [
    "# Markdown example\n",
    "\n",
    "This is a markdown example.\n",
    "* bullet list 1\n",
    "* bullet list 2\n",
    "\n",
    "> \"[I love deadlines. I like the whooshing sound they make as they fly by.](https://www.brainyquote.com/quotes/quotes/d/douglasada134151.html?src=t_funny)\"  \n",
    "-- _Douglas Adams_"
   ]
  },
  {
   "cell_type": "markdown",
   "metadata": {
    "slideshow": {
     "slide_type": "fragment"
    }
   },
   "source": [
    "----\n",
    "```\n",
    "# Markdown example\n",
    "\n",
    "This is a markdown example\n",
    "* bullet list 1\n",
    "* bullet list 2\n",
    "\n",
    "> \"[I love deadlines. I like the whooshing sound they make as they fly by.](https://www.brainyquote.com/quotes/quotes/d/douglasada134151.html?src=t_funny)\"  \n",
    "-- _Douglas Adams_\n",
    "```\n"
   ]
  },
  {
   "cell_type": "markdown",
   "metadata": {
    "slideshow": {
     "slide_type": "notes"
    }
   },
   "source": [
    "A good reference for Markdown: https://ia.net/writer/support/general/markdown-guide/."
   ]
  },
  {
   "cell_type": "markdown",
   "metadata": {
    "slideshow": {
     "slide_type": "slide"
    }
   },
   "source": [
    "# How to represent text data: encoding\n",
    "\n",
    "-   a “character set\" is a list of character with associated numerical\n",
    "    representations\n",
    "\n",
    "-   ASCII: the original character set, uses just 7 bits ($2^7$) – see\n",
    "    <http://ergoemacs.org/emacs/unicode_basics.html>\n",
    "\n",
    "-   ASCII was later extended, e.g. ISO-8859\n",
    "    <http://www.ic.unicamp.br/~stolfi/EXPORT/www/ISO-8859-1-Encoding.html>,\n",
    "    using 8 bits ($2^8$)\n",
    "\n",
    "-   but this became a jungle, with no standards:\n",
    "    <http://en.wikipedia.org/wiki/Character_encoding>"
   ]
  },
  {
   "cell_type": "markdown",
   "metadata": {
    "slideshow": {
     "slide_type": "slide"
    }
   },
   "source": [
    "# Solution: Unicode\n",
    "\n",
    "*   Unicode was developed to provide a unique number ( a “code point”) to every known character – even some that are “unknown”\n",
    "\n",
    "*   Basic principles:\n",
    "    - Separate the character (as an idea) from its data (how the computer stores it)\n",
    "    - One character may have different possible data representations\n",
    "    - U+0000 to U+007F (0-127) were defined to be the same as ASCII\n",
    "    \n",
    "*   Unicode has planes\n",
    "    - [Basic Multilingual Plane]\n",
    "    - [Supplementary Multilingual Plane]\n",
    "    - and more, for instance for [emoji](https://unicode.org/emoji/charts/full-emoji-list.html)\n",
    "\n",
    "*   Unicode has [categories](http://www.fileformat.info/info/unicode/category/index.htm)\n",
    "\n",
    "[Basic Multilingual Plane]: https://en.wikipedia.org/wiki/Plane_(Unicode)#Basic_Multilingual_Plane\n",
    "[Supplementary Multilingual Plane]: https://en.wikipedia.org/wiki/Plane_(Unicode)"
   ]
  },
  {
   "cell_type": "markdown",
   "metadata": {
    "slideshow": {
     "slide_type": "slide"
    }
   },
   "source": [
    "## But: Unicode must still be _encoded_\n",
    "\n",
    "-   and displayed...  Different devices will render displayed emoji [differently](https://unicode.org/emoji/charts/full-emoji-list.html), for instance"
   ]
  },
  {
   "cell_type": "markdown",
   "metadata": {
    "slideshow": {
     "slide_type": "fragment"
    }
   },
   "source": [
    "-   another problem: there are more far code points than fit into 8-bit\n",
    "    encodings. Hence there are multiple ways to *encode* the Unicode\n",
    "    code points\n",
    "\n",
    "-   *variable-byte* encodings use multiple bytes as needed. Advantage is\n",
    "    efficiency, since most ASCII and simple extended character sets can\n",
    "    use just one byte, and these were set in the Unicode standard to\n",
    "    their ASCII and ISO-8859 equivalents\n",
    "\n",
    "-   two most common are UTF-8 and UTF-16, using 8 and 16 bits respectively"
   ]
  },
  {
   "cell_type": "markdown",
   "metadata": {
    "slideshow": {
     "slide_type": "slide"
    }
   },
   "source": [
    "## Byte Order Marks\n",
    "\n",
    "- Back to the big-endian v. little-endian issue: Where do you store the start of the data representation?\n",
    "\n",
    "    Example:  UCS-2/UTF-16 (little-endian UCS-2 is the native format on Windows)\n",
    "    ```\n",
    "    FF FE  4800 6500 6C00 6c00 6F00\n",
    "    header H    e    l    l    o\n",
    "    ```\n",
    "    \n",
    "    But in \"big-endian\":\n",
    "    ```\n",
    "    FE FF  0048 0065 006C 006C 006F\n",
    "    header H    e    l    l    o\n",
    "    ```"
   ]
  },
  {
   "cell_type": "markdown",
   "metadata": {
    "slideshow": {
     "slide_type": "slide"
    }
   },
   "source": [
    "## Byte Order Marks (cont'd)\n",
    "\n",
    "- Solution: A \"byte-order mark\" (U+FEFF) at the header of each file, indicating the byte order\n",
    "\n",
    "    -  FFFE for little-endian, FEFF for big-endian\n",
    "       \n",
    "- But this has a problem: The BOM is actually a [valid Unicode character](http://www.fileformat.info/info/unicode/char/FEFF/index.htm)!\n",
    "\n",
    "    – What if someone sent a file without a header, and that character was actually part of the file?\n",
    "        \n",
    "\n",
    "\n"
   ]
  },
  {
   "cell_type": "markdown",
   "metadata": {
    "slideshow": {
     "slide_type": "slide"
    }
   },
   "source": [
    "## Solution: UTF-8\n",
    "\n",
    "* One problem with fixed-length schems (such as UTF-16) is that they are _wasteful_: they use two bytes even when this is unnecessary\n",
    "\n",
    "* UTF-8 is designed to be more efficient: only as many bytes as you need\n",
    "    ```\n",
    "    EF BB BF 48 65 6C 6C 6F\n",
    "    header   H  e  l  l  o\n",
    "    ```\n",
    "    \n",
    "    - Code points 0 – 007F are stored as regular, single-byte ASCII\n",
    "    - Code points 0080 and above are converted to binary and stored (encoded) in a series of bytes"
   ]
  },
  {
   "cell_type": "markdown",
   "metadata": {
    "slideshow": {
     "slide_type": "slide"
    }
   },
   "source": [
    "## Solution: UTF-8 (cont'd)\n",
    "\n",
    "* UTF-8 is a _variable-length_ encoding\n",
    "    -   The first “count” byte indicates the number of bytes for the codepoint, including the count byte. These bytes start with 11..0:\n",
    "\n",
    "        `110xxxxx` (The leading “11” is indicates 2 bytes in sequence, including the “count” byte)  \n",
    "        `1110xxxx` (1110 -> 3 bytes in sequence)  \n",
    "        `11110xxx` (11110 -> 4 bytes in sequence)  \n",
    "\n",
    "    -   Bytes starting with 10… are “data” bytes and contain information for the codepoint. A 2-byte example looks like this: `110xxxxx 10xxxxxx`\n",
    "\n",
    "        This means there are 2 bytes in the sequence. The X’s represent the binary value of the codepoint, which needs to squeeze in the remaining bits"
   ]
  },
  {
   "cell_type": "markdown",
   "metadata": {
    "slideshow": {
     "slide_type": "fragment"
    }
   },
   "source": [
    "*   **Recommendation:** [Use UTF-8](http://utf8everywhere.org)"
   ]
  },
  {
   "cell_type": "markdown",
   "metadata": {
    "slideshow": {
     "slide_type": "slide"
    }
   },
   "source": [
    "# Text encoding: Caution\n",
    "\n",
    "-   Input texts can be very different\n",
    "\n",
    "-   Many text production software (e.g. MS Office-based products) still\n",
    "    tend to use proprietary formats, such as Windows-1252\n",
    "\n",
    "-   Windows tends to use UTF-16, while Mac and other Unix-based\n",
    "    platforms use UTF-8\n",
    "\n",
    "-   Your eyes can be deceiving: a client may display gibberish but the\n",
    "    encoding might still be as intended\n",
    "\n",
    "-   No easy method of detecting encodings (except in HTML meta-data)\n"
   ]
  },
  {
   "cell_type": "markdown",
   "metadata": {
    "slideshow": {
     "slide_type": "slide"
    }
   },
   "source": [
    "# A note on \"meta-data\"\n",
    "\n",
    "-   Data that provides infomation about other (primary) data  \n",
    "-   Usually not meant to be analyzed as data itself  "
   ]
  },
  {
   "cell_type": "markdown",
   "metadata": {
    "slideshow": {
     "slide_type": "fragment"
    }
   },
   "source": [
    "-   Example: HTML\n",
    "\n",
    "    ```html\n",
    "    <!DOCTYPE html>\n",
    "    <html class=\"client-nojs\" lang=\"en\" dir=\"ltr\">\n",
    "    <head>\n",
    "    <meta charset=\"UTF-8\"/>\n",
    "    <title>Metadata - Wikipedia</title>\n",
    "    ```"
   ]
  },
  {
   "cell_type": "markdown",
   "metadata": {
    "slideshow": {
     "slide_type": "fragment"
    }
   },
   "source": [
    "-   Example of a standard attempting to address this need:\n",
    "    [Dublin Core Metadata Initiative](http://dublincore.org/documents/dc-text/)"
   ]
  },
  {
   "cell_type": "markdown",
   "metadata": {
    "slideshow": {
     "slide_type": "slide"
    }
   },
   "source": [
    "### Representing dates: Different formats?\n",
    "\n",
    "![data orders](figs/dateformatorder2.png \"Date format order\")\n",
    "    "
   ]
  },
  {
   "cell_type": "markdown",
   "metadata": {
    "slideshow": {
     "slide_type": "slide"
    }
   },
   "source": [
    "### Representing dates: Different formats?\n",
    "\n",
    "![data orders](figs/dateformatorder1.png \"Date format order\")\n",
    "    "
   ]
  },
  {
   "cell_type": "markdown",
   "metadata": {
    "slideshow": {
     "slide_type": "slide"
    }
   },
   "source": [
    "# Representing dates\n",
    "\n",
    "| Description\t| Format\t| Examples |\n",
    "|:------------|:--------|:---------|\n",
    "| American month and day\t      | mm/dd\t           | \"5/12\", \"10/27\" |\n",
    "| American month, day and year\t| mm/dd/y\t         | \"1/17/2006\" |\n",
    "| Four digit year, month and day with slashes\t| YY/mm/dd | \"2008/6/30\", \"1978/12/22\" |\n",
    "| Four digit year and month (GNU)\t| YY-mm\t         | \"2008-6\", \"2008-06\", \"1978-12\" |\n",
    "| Year, month and day with dashes\t| y-mm-dd\t       | \"2008-6-30\", \"78-12-22\", \"8-6-21\" |\n",
    "| Day, month and four digit year\t| dd-mm-YY\t     | \"30-6-2008\" |\n",
    "| Day, month and two digit year   | dd.mm.yy\t     | \"30.6.08\" |\n",
    "| Day, textual month and year\t    | dd-m y\t       | \"30-June 2008\" |\n",
    "| Textual month and four digit year | m YY\t       | \"June 2008\",  \"March 1879\" |\n",
    "| Four digit year and textual month | YY  m\t       | \"2008 June\" |\n",
    "| Textual month, day and year\t    | m dd, y\t       | \"April 17, 1790\" |\n",
    "| Day and textual month\t          | d m\t           | \"1 July\" |\n",
    "| Month abbreviation, day and year\t| M-DD-y\t     | \"May-09-78\", \"Apr-17-1790\" |\n",
    "| Year, month abbreviation and day\t| y-M-DD\t     | \"78-Dec-22\", \"1814-MAY-17\" |\n",
    "| Year (and just the year)        |\tYY\t| \"1978\", \"2008\" |\n",
    "| Textual month (and just the month)\t| m\t| \"March\", \"jun\", \"DEC\" |"
   ]
  },
  {
   "cell_type": "markdown",
   "metadata": {
    "slideshow": {
     "slide_type": "slide"
    }
   },
   "source": [
    "# ISO8601: Imposing common standards\n",
    "\n",
    "* Purpose: to provide unambiguous and well-defined method of representing dates and times\n",
    "* Goal: to avoid misinterpretation of numeric representations of dates and times, particularly when data are transferred between countries with different conventions for writing numeric dates and time\n",
    "* First published in 1988\n",
    "* Introduces a common notation, and a common order (most-to-least-significant order [YYYY]-[MM]-[DD])\n",
    "    - matches lexicographical order with chronological order\n",
    "* Uses codes for date and time elements, to represent dates (and times) in either a basic format (no separators) or in an extended format with added separators (to enhance human readability)\n"
   ]
  },
  {
   "cell_type": "markdown",
   "metadata": {
    "slideshow": {
     "slide_type": "slide"
    }
   },
   "source": [
    "## ISO8601 formatting components\n",
    "\n",
    "|  Symbol  |  Meaning       |  Example   |  Notes |\n",
    "|:---------|:---------------|:----------:|:-------|\n",
    "| YYYY     | 4-digit year   |  2017    | Avoids the \"Y2K\" problem |\n",
    "| MM       | 2-digit day of the month | 10  | |\n",
    "| DD       | 2-digit day of the month | 03 | |\n",
    "| Www      | Week number    | 52 | |\n",
    "| D        | Weekday number |  2 | Starts on Monday! |\n",
    "| hh       | hour (0-24)    |  10 | 24 is only used to denote midnight at the end of a calendar day |\n",
    "| mm       | minute (0-59)  |  05 | |\n",
    "| ss       | second (0-60)  |  20 | 60 is only used to denote an added leap second |\n"
   ]
  },
  {
   "cell_type": "markdown",
   "metadata": {
    "slideshow": {
     "slide_type": "slide"
    }
   },
   "source": [
    "## Coordinated Universal Time (UTC)\n",
    "\n",
    "* World standard for time\n",
    "* Does not include Daylight Savings Time\n",
    "* Interchangeable with Greenwich Mean Time (GMT), but GMT is no longer precisely defined by the scientific community\n",
    "* [Time zones around the world](https://en.wikipedia.org/wiki/List_of_UTC_time_offsets) are expressed using positive or negative offsets from UTC"
   ]
  },
  {
   "cell_type": "markdown",
   "metadata": {
    "slideshow": {
     "slide_type": "fragment"
    }
   },
   "source": [
    "* French v. English\n",
    "    - English speakers originally proposed _CUT_ (for \"coordinated universal time\")\n",
    "    - French speakers proposed _TUC_ (for \"temps universel coordonné\") \n",
    "    - Compromise: _UTC_"
   ]
  },
  {
   "cell_type": "markdown",
   "metadata": {
    "slideshow": {
     "slide_type": "slide"
    }
   },
   "source": [
    "# POSIX Time\n",
    "\n",
    "- a system for describing a point in time, defined as the number of seconds that have elapsed since 00:00:00 UTC, Thursday, 1 January 1970\n",
    "- Also known as \"Unix time\", or \"<a href=\"https://en.wikipedia.org/wiki/Epoch_(reference_date)#Computing\">[epoch time](</a>)\", because it represents elapsed time from a defined \"epoch\"\n",
    "- Problem: How much elapsed time can you store?  "
   ]
  },
  {
   "cell_type": "markdown",
   "metadata": {
    "slideshow": {
     "slide_type": "fragment"
    }
   },
   "source": [
    "* The _Year 2038 Problem_\n",
    "    -  Many Unix-like operating systems which keep time as seconds elapsed from the epoch date of January 1, 1970\n",
    "    -  For signed 32-bit integers, this means that cannot encoding times after 03:14:07 UTC on 19 January 2038\n",
    "    -  Times beyond that will wrap around and be stored internally as a negative number, which these systems will interpret as having occurred on 13 December 1901\n",
    "    -  A solution: 64-bit signed integers allow a new wraparound date that is 20x greater than the estimated age of the universe: approximately 290 billion years in the future"
   ]
  },
  {
   "cell_type": "markdown",
   "metadata": {
    "slideshow": {
     "slide_type": "slide"
    }
   },
   "source": [
    "# Compression\n",
    "\n",
    "-   Seeks to economize on space by representing recurring items using\n",
    "    patterns that represent the uncompressed data\n",
    "\n",
    "-   Common in formats for graphics and video encoding\n",
    "\n",
    "-   “Lossless” formats compress data without reducing information -\n",
    "    examples are .zip and .gz compression\n",
    "\n",
    "-   This (and avoiding errors) is also a principle in normalized\n",
    "    relational data forms\n",
    "\n",
    "-   Also very important for sparse matrix representations, where many of\n",
    "    the cells are zero, but it would be very wasteful to record a double\n",
    "    precision numeric zero for each of these non-informative cells"
   ]
  },
  {
   "cell_type": "markdown",
   "metadata": {
    "slideshow": {
     "slide_type": "slide"
    }
   },
   "source": [
    "## Compression: Sparse matrix formats\n",
    "\n",
    "* used because many forms of matrix are very sparse - for example, document-term matrixes, which are commonly 80-90% sparse"
   ]
  },
  {
   "cell_type": "code",
   "execution_count": 26,
   "metadata": {
    "slideshow": {
     "slide_type": "fragment"
    }
   },
   "outputs": [
    {
     "ename": "ERROR",
     "evalue": "Error in library(\"quanteda\"): there is no package called ‘quanteda’\n",
     "output_type": "error",
     "traceback": [
      "Error in library(\"quanteda\"): there is no package called ‘quanteda’\nTraceback:\n",
      "1. library(\"quanteda\")"
     ]
    }
   ],
   "source": [
    "#suppressPackageStartupMessages(library(\"quanteda\"))\n",
    "library(\"quanteda\")\n",
    "mydfm <- dfm(data_corpus_inaugural)\n",
    "mydfm"
   ]
  },
  {
   "cell_type": "code",
   "execution_count": 27,
   "metadata": {
    "slideshow": {
     "slide_type": "fragment"
    }
   },
   "outputs": [
    {
     "ename": "ERROR",
     "evalue": "Error in head(mydfm, nfeature = 8): object 'mydfm' not found\n",
     "output_type": "error",
     "traceback": [
      "Error in head(mydfm, nfeature = 8): object 'mydfm' not found\nTraceback:\n",
      "1. head(mydfm, nfeature = 8)"
     ]
    }
   ],
   "source": [
    "head(mydfm, nfeature = 8)"
   ]
  },
  {
   "cell_type": "markdown",
   "metadata": {
    "slideshow": {
     "slide_type": "slide"
    }
   },
   "source": [
    "### \"simple triplet\" format\n",
    "\n",
    "-   “simple triplet” format\n",
    "\n",
    "    - $i$:   indexes row\n",
    "\n",
    "    - $j$:   indexes column\n",
    "\n",
    "    - $x$:   indicates value\n",
    "    \n",
    "(indexes will be from zero)"
   ]
  },
  {
   "cell_type": "markdown",
   "metadata": {
    "slideshow": {
     "slide_type": "slide"
    }
   },
   "source": [
    "### \"simple triplet\" example\n",
    "\n",
    "This matrix:\n",
    "\n",
    "```\n",
    "     [,1] [,2] [,3] [,4]\n",
    "[1,]    1   99    3   12\n",
    "[2,]    0    0   10    1\n",
    "[3,]    2    0    0    0\n",
    "```\n",
    "\n",
    "Would be represented by:\n",
    "- $i$: 0 2 0 0 1 0 1\n",
    "- $j$: 0 0 1 2 2 3 3\n",
    "- $x$: 1 2 99 3 10 12 1\n",
    "\n",
    "\n"
   ]
  },
  {
   "cell_type": "code",
   "execution_count": 28,
   "metadata": {
    "slideshow": {
     "slide_type": "slide"
    }
   },
   "outputs": [
    {
     "name": "stdout",
     "output_type": "stream",
     "text": [
      "     [,1] [,2] [,3] [,4]\n",
      "[1,]    1   99    3   12\n",
      "[2,]    0    0   10    1\n",
      "[3,]    2    0    0    0\n"
     ]
    }
   ],
   "source": [
    "# in R\n",
    "\n",
    "m <- matrix(c(1, 0, 2, 99, 0, 0, 3, 10, 0, 12, 1, 0), nrow = 3)\n",
    "print(m)"
   ]
  },
  {
   "cell_type": "code",
   "execution_count": 29,
   "metadata": {
    "slideshow": {
     "slide_type": "fragment"
    }
   },
   "outputs": [
    {
     "name": "stderr",
     "output_type": "stream",
     "text": [
      "\n",
      "Attaching package: ‘Matrix’\n",
      "\n",
      "The following object is masked from ‘package:tidyr’:\n",
      "\n",
      "    expand\n",
      "\n"
     ]
    },
    {
     "name": "stdout",
     "output_type": "stream",
     "text": [
      "[1] 0 2 0 0 1 0 1\n",
      "[1] 0 0 1 2 2 3 3\n",
      "[1]  1  2 99  3 10 12  1\n"
     ]
    }
   ],
   "source": [
    "library(\"Matrix\")\n",
    "m_st <- as(m, \"dgTMatrix\")\n",
    "print(m_st@i)\n",
    "print(m_st@j)\n",
    "print(m_st@x)"
   ]
  },
  {
   "cell_type": "markdown",
   "metadata": {
    "slideshow": {
     "slide_type": "slide"
    }
   },
   "source": [
    "###   “compressed sparse column” format\n",
    "\n",
    "- More efficient than the STF\n",
    "\n",
    "    - $i$:   indexes row\n",
    "\n",
    "    - $p$:   indexes the first nonzero element in each column of the matrix\n",
    "\n",
    "    - $x$:   indicates value\n",
    "    \n",
    "    \n",
    "-   \"compressed sparse row\" format is also possible"
   ]
  },
  {
   "cell_type": "markdown",
   "metadata": {
    "slideshow": {
     "slide_type": "slide"
    }
   },
   "source": [
    "###   “compressed sparse column” example\n",
    "\n",
    "This matrix:\n",
    "\n",
    "```\n",
    "     [,1] [,2] [,3] [,4]\n",
    "[1,]    1   99    3   12\n",
    "[2,]    0    0   10    1\n",
    "[3,]    2    0    0    0    \n",
    "```\n",
    "\n",
    "Would be represented by:\n",
    "- $i$: 0 2 0 0 1 0 1\n",
    "- $p$: 0 2 3 5 7\n",
    "- $x$: 1 2 99 3 10 12 1\n",
    "\n",
    "\n"
   ]
  },
  {
   "cell_type": "code",
   "execution_count": 30,
   "metadata": {
    "slideshow": {
     "slide_type": "slide"
    }
   },
   "outputs": [
    {
     "name": "stdout",
     "output_type": "stream",
     "text": [
      "[1] 0 2 0 0 1 0 1\n",
      "[1] 0 2 3 5 7\n",
      "[1]  1  2 99  3 10 12  1\n"
     ]
    }
   ],
   "source": [
    "# in R\n",
    "\n",
    "m_sc <- as(m, \"dgCMatrix\")\n",
    "print(m_sc@i)\n",
    "print(m_sc@p)\n",
    "print(m_sc@x)"
   ]
  },
  {
   "cell_type": "markdown",
   "metadata": {
    "slideshow": {
     "slide_type": "slide"
    }
   },
   "source": [
    "# Dataset manipulation\n",
    "\n",
    "### What is a “Dataset”?\n",
    "\n",
    "-   A dataset _is_ a “rectangular\" formatted table of data in which all\n",
    "    the values of the same variable must be in a single column"
   ]
  },
  {
   "cell_type": "markdown",
   "metadata": {
    "slideshow": {
     "slide_type": "fragment"
    }
   },
   "source": [
    "-   A dataset is _not_: \n",
    "\n",
    "    -  the results of tabulating a dataset\n",
    "    -  any set of summary statistics on a dataset\n",
    "    -  a series of relational tables"
   ]
  },
  {
   "cell_type": "markdown",
   "metadata": {
    "slideshow": {
     "slide_type": "fragment"
    }
   },
   "source": [
    "-   Many of the datasets we use have been artificially reshaped in order\n",
    "    to fulfill this criterion of rectangularity\n",
    "\n",
    "    -  This means \"non-normalized\" data\n",
    "    -  Often confounds variables with their values"
   ]
  },
  {
   "cell_type": "markdown",
   "metadata": {
    "slideshow": {
     "slide_type": "slide"
    }
   },
   "source": [
    "### The difference between a dataset and table\n",
    "\n",
    "-   This is a _table_:\n",
    "\n",
    "    ```\n",
    "               Lost Won\n",
    "    Challenger  266  60\n",
    "    Incumbent    32 106\n",
    "    ```"
   ]
  },
  {
   "cell_type": "markdown",
   "metadata": {
    "slideshow": {
     "slide_type": "fragment"
    }
   },
   "source": [
    "-   This is a (partial) dataset:\n",
    "\n",
    "    ```\n",
    "                  district    incumbf wonseatf\n",
    "    1      Carlow Kilkenny Challenger     Lost\n",
    "    2      Carlow Kilkenny Challenger     Lost\n",
    "    5      Carlow Kilkenny  Incumbent      Won\n",
    "    100 Donegal South West Challenger     Lost\n",
    "    459            Wicklow  Incumbent      Won\n",
    "    464            Wicklow Challenger     Lost\n",
    "    ```"
   ]
  },
  {
   "cell_type": "markdown",
   "metadata": {
    "slideshow": {
     "slide_type": "slide"
    }
   },
   "source": [
    "## Hadley Wickham's three rules for \"tidy\" datasets\n",
    "\n",
    "1.  Each variable must have its own column.\n",
    "2.  Each observation must have its own row.\n",
    "3.  Each value must have its own cell.\n",
    "\n",
    "![Tidy data](figs/tidy-1.png)"
   ]
  },
  {
   "cell_type": "markdown",
   "metadata": {},
   "source": [
    "Does [1] and [2] together imply [3] already?\n",
    "- Exceptions will be when dependency is violated\n"
   ]
  },
  {
   "cell_type": "markdown",
   "metadata": {
    "slideshow": {
     "slide_type": "slide"
    }
   },
   "source": [
    "# Example from _R for Data Science_\n",
    "\n",
    "* Example of non-tidy data"
   ]
  },
  {
   "cell_type": "code",
   "execution_count": 31,
   "metadata": {
    "slideshow": {
     "slide_type": "fragment"
    }
   },
   "outputs": [
    {
     "name": "stdout",
     "output_type": "stream",
     "text": [
      "# A tibble: 3 x 3\n",
      "  country     `1999` `2000`\n",
      "* <chr>        <int>  <int>\n",
      "1 Afghanistan    745   2666\n",
      "2 Brazil       37737  80488\n",
      "3 China       212258 213766\n"
     ]
    }
   ],
   "source": [
    "suppressPackageStartupMessages(library(\"tidyverse\"))\n",
    "print(table4a)"
   ]
  },
  {
   "cell_type": "markdown",
   "metadata": {
    "slideshow": {
     "slide_type": "slide"
    }
   },
   "source": [
    "## \"Gathering\""
   ]
  },
  {
   "cell_type": "code",
   "execution_count": 32,
   "metadata": {
    "scrolled": true,
    "slideshow": {
     "slide_type": "fragment"
    }
   },
   "outputs": [
    {
     "name": "stdout",
     "output_type": "stream",
     "text": [
      "# A tibble: 6 x 3\n",
      "  country     year   cases\n",
      "  <chr>       <chr>  <int>\n",
      "1 Afghanistan 1999     745\n",
      "2 Brazil      1999   37737\n",
      "3 China       1999  212258\n",
      "4 Afghanistan 2000    2666\n",
      "5 Brazil      2000   80488\n",
      "6 China       2000  213766\n"
     ]
    }
   ],
   "source": [
    "print(gather(table4a, `1999`, `2000`, key = \"year\", value = \"cases\"))"
   ]
  },
  {
   "cell_type": "markdown",
   "metadata": {},
   "source": [
    "> ### This became a LONG table\n",
    "from wide.\n",
    "here, the unit is country. "
   ]
  },
  {
   "cell_type": "markdown",
   "metadata": {
    "slideshow": {
     "slide_type": "fragment"
    }
   },
   "source": [
    "![Gathering tidy data](figs/tidy-9.png)"
   ]
  },
  {
   "cell_type": "markdown",
   "metadata": {
    "slideshow": {
     "slide_type": "slide"
    }
   },
   "source": [
    "## \"Spreading\""
   ]
  },
  {
   "cell_type": "code",
   "execution_count": 33,
   "metadata": {
    "scrolled": true,
    "slideshow": {
     "slide_type": "fragment"
    }
   },
   "outputs": [
    {
     "name": "stdout",
     "output_type": "stream",
     "text": [
      "# A tibble: 12 x 4\n",
      "   country      year type            count\n",
      "   <chr>       <int> <chr>           <int>\n",
      " 1 Afghanistan  1999 cases             745\n",
      " 2 Afghanistan  1999 population   19987071\n",
      " 3 Afghanistan  2000 cases            2666\n",
      " 4 Afghanistan  2000 population   20595360\n",
      " 5 Brazil       1999 cases           37737\n",
      " 6 Brazil       1999 population  172006362\n",
      " 7 Brazil       2000 cases           80488\n",
      " 8 Brazil       2000 population  174504898\n",
      " 9 China        1999 cases          212258\n",
      "10 China        1999 population 1272915272\n",
      "11 China        2000 cases          213766\n",
      "12 China        2000 population 1280428583\n"
     ]
    }
   ],
   "source": [
    "print(table2)"
   ]
  },
  {
   "cell_type": "markdown",
   "metadata": {},
   "source": [
    "here, the unit is country-year-type. Because values in both country and year variables repeat. "
   ]
  },
  {
   "cell_type": "code",
   "execution_count": 34,
   "metadata": {
    "slideshow": {
     "slide_type": "slide"
    }
   },
   "outputs": [
    {
     "name": "stdout",
     "output_type": "stream",
     "text": [
      "# A tibble: 6 x 4\n",
      "  country      year  cases population\n",
      "  <chr>       <int>  <int>      <int>\n",
      "1 Afghanistan  1999    745   19987071\n",
      "2 Afghanistan  2000   2666   20595360\n",
      "3 Brazil       1999  37737  172006362\n",
      "4 Brazil       2000  80488  174504898\n",
      "5 China        1999 212258 1272915272\n",
      "6 China        2000 213766 1280428583\n"
     ]
    }
   ],
   "source": [
    "spread(table2, key = type, value = count) %>% print()"
   ]
  },
  {
   "cell_type": "markdown",
   "metadata": {
    "slideshow": {
     "slide_type": "fragment"
    }
   },
   "source": [
    "![](figs/tidy-8.png)"
   ]
  },
  {
   "cell_type": "markdown",
   "metadata": {
    "slideshow": {
     "slide_type": "slide"
    }
   },
   "source": [
    "# Long v. wide formats (R)\n",
    "\n",
    "*   More fine-grained control with functions and packages for this (alternative to **dplyr** functions of `spread` `gather`, etc.)\n",
    "*   `base::reshape()`\n",
    "    -   the “old\" R way to do this, using ‘base::reshape()‘\n",
    "    -   problem: confusing and difficult to use\n",
    "\n",
    "*   **reshape2** package\n",
    "    -   Hadley Wickham’s `reshape2` package\n",
    "    -   data is first ‘melt‘ed into long format\n",
    "    -   then ‘cast‘ into desired format"
   ]
  },
  {
   "cell_type": "markdown",
   "metadata": {},
   "source": [
    "> note that `base` in `base::reshape()` is the package name, then `reshape` is the function name"
   ]
  },
  {
   "cell_type": "markdown",
   "metadata": {
    "slideshow": {
     "slide_type": "slide"
    }
   },
   "source": [
    "## Example with [Manifesto Data](https://manifesto-project.wzb.eu)"
   ]
  },
  {
   "cell_type": "code",
   "execution_count": 35,
   "metadata": {
    "scrolled": true,
    "slideshow": {
     "slide_type": "fragment"
    }
   },
   "outputs": [],
   "source": [
    "library(reshape2, warn.conflicts = FALSE)\n",
    "load(\"cmpdata.Rdata\")"
   ]
  },
  {
   "cell_type": "markdown",
   "metadata": {},
   "source": [
    "Things to watch out for :\n",
    "1. how the data is (hand-)coded in\n",
    "2. strange values in your data\n",
    "3. mistakes in data entry/coding\n",
    "\n",
    "\n",
    "always check!!!"
   ]
  },
  {
   "cell_type": "code",
   "execution_count": 36,
   "metadata": {
    "scrolled": true,
    "slideshow": {
     "slide_type": "slide"
    }
   },
   "outputs": [
    {
     "data": {
      "text/html": [
       "<table>\n",
       "<thead><tr><th scope=col>countryname</th><th scope=col>party</th><th scope=col>date</th><th scope=col>category</th><th scope=col>catcount</th></tr></thead>\n",
       "<tbody>\n",
       "\t<tr><td>Austria</td><td>42420  </td><td>199010 </td><td>per101 </td><td>0      </td></tr>\n",
       "\t<tr><td>Austria</td><td>42110  </td><td>199010 </td><td>per101 </td><td>0      </td></tr>\n",
       "\t<tr><td>Austria</td><td>42320  </td><td>199010 </td><td>per101 </td><td>0      </td></tr>\n",
       "\t<tr><td>Austria</td><td>42520  </td><td>199010 </td><td>per101 </td><td>5      </td></tr>\n",
       "\t<tr><td>Austria</td><td>42420  </td><td>199410 </td><td>per101 </td><td>0      </td></tr>\n",
       "\t<tr><td>Austria</td><td>42421  </td><td>199410 </td><td>per101 </td><td>0      </td></tr>\n",
       "\t<tr><td>Austria</td><td>42110  </td><td>199410 </td><td>per101 </td><td>0      </td></tr>\n",
       "\t<tr><td>Austria</td><td>42320  </td><td>199410 </td><td>per101 </td><td>0      </td></tr>\n",
       "\t<tr><td>Austria</td><td>42520  </td><td>199410 </td><td>per101 </td><td>0      </td></tr>\n",
       "\t<tr><td>Austria</td><td>42520  </td><td>199512 </td><td>per101 </td><td>0      </td></tr>\n",
       "\t<tr><td>Austria</td><td>42110  </td><td>199512 </td><td>per101 </td><td>0      </td></tr>\n",
       "\t<tr><td>Austria</td><td>42320  </td><td>199512 </td><td>per101 </td><td>0      </td></tr>\n",
       "\t<tr><td>Austria</td><td>42420  </td><td>199512 </td><td>per101 </td><td>0      </td></tr>\n",
       "\t<tr><td>Austria</td><td>42421  </td><td>199512 </td><td>per101 </td><td>0      </td></tr>\n",
       "\t<tr><td>Austria</td><td>42420  </td><td>199910 </td><td>per101 </td><td>1      </td></tr>\n",
       "\t<tr><td>Austria</td><td>42110  </td><td>199910 </td><td>per101 </td><td>0      </td></tr>\n",
       "\t<tr><td>Austria</td><td>42320  </td><td>199910 </td><td>per101 </td><td>0      </td></tr>\n",
       "\t<tr><td>Austria</td><td>42520  </td><td>199910 </td><td>per101 </td><td>0      </td></tr>\n",
       "\t<tr><td>Austria</td><td>42520  </td><td>200211 </td><td>per101 </td><td>7      </td></tr>\n",
       "\t<tr><td>Austria</td><td>42320  </td><td>200211 </td><td>per101 </td><td>0      </td></tr>\n",
       "\t<tr><td>Austria</td><td>42110  </td><td>200211 </td><td>per101 </td><td>0      </td></tr>\n",
       "\t<tr><td>Austria</td><td>42220  </td><td>200211 </td><td>per101 </td><td>0      </td></tr>\n",
       "\t<tr><td>Austria</td><td>42420  </td><td>200211 </td><td>per101 </td><td>0      </td></tr>\n",
       "\t<tr><td>Austria</td><td>42110  </td><td>200610 </td><td>per101 </td><td>0      </td></tr>\n",
       "\t<tr><td>Austria</td><td>42710  </td><td>200610 </td><td>per101 </td><td>0      </td></tr>\n",
       "\t<tr><td>Austria</td><td>42420  </td><td>200610 </td><td>per101 </td><td>0      </td></tr>\n",
       "\t<tr><td>Austria</td><td>42520  </td><td>200610 </td><td>per101 </td><td>0      </td></tr>\n",
       "\t<tr><td>Austria</td><td>42320  </td><td>200610 </td><td>per101 </td><td>0      </td></tr>\n",
       "\t<tr><td>Austria</td><td>42320  </td><td>200809 </td><td>per101 </td><td>0      </td></tr>\n",
       "\t<tr><td>Austria</td><td>42110  </td><td>200809 </td><td>per101 </td><td>0      </td></tr>\n",
       "</tbody>\n",
       "</table>\n"
      ],
      "text/latex": [
       "\\begin{tabular}{r|lllll}\n",
       " countryname & party & date & category & catcount\\\\\n",
       "\\hline\n",
       "\t Austria & 42420   & 199010  & per101  & 0      \\\\\n",
       "\t Austria & 42110   & 199010  & per101  & 0      \\\\\n",
       "\t Austria & 42320   & 199010  & per101  & 0      \\\\\n",
       "\t Austria & 42520   & 199010  & per101  & 5      \\\\\n",
       "\t Austria & 42420   & 199410  & per101  & 0      \\\\\n",
       "\t Austria & 42421   & 199410  & per101  & 0      \\\\\n",
       "\t Austria & 42110   & 199410  & per101  & 0      \\\\\n",
       "\t Austria & 42320   & 199410  & per101  & 0      \\\\\n",
       "\t Austria & 42520   & 199410  & per101  & 0      \\\\\n",
       "\t Austria & 42520   & 199512  & per101  & 0      \\\\\n",
       "\t Austria & 42110   & 199512  & per101  & 0      \\\\\n",
       "\t Austria & 42320   & 199512  & per101  & 0      \\\\\n",
       "\t Austria & 42420   & 199512  & per101  & 0      \\\\\n",
       "\t Austria & 42421   & 199512  & per101  & 0      \\\\\n",
       "\t Austria & 42420   & 199910  & per101  & 1      \\\\\n",
       "\t Austria & 42110   & 199910  & per101  & 0      \\\\\n",
       "\t Austria & 42320   & 199910  & per101  & 0      \\\\\n",
       "\t Austria & 42520   & 199910  & per101  & 0      \\\\\n",
       "\t Austria & 42520   & 200211  & per101  & 7      \\\\\n",
       "\t Austria & 42320   & 200211  & per101  & 0      \\\\\n",
       "\t Austria & 42110   & 200211  & per101  & 0      \\\\\n",
       "\t Austria & 42220   & 200211  & per101  & 0      \\\\\n",
       "\t Austria & 42420   & 200211  & per101  & 0      \\\\\n",
       "\t Austria & 42110   & 200610  & per101  & 0      \\\\\n",
       "\t Austria & 42710   & 200610  & per101  & 0      \\\\\n",
       "\t Austria & 42420   & 200610  & per101  & 0      \\\\\n",
       "\t Austria & 42520   & 200610  & per101  & 0      \\\\\n",
       "\t Austria & 42320   & 200610  & per101  & 0      \\\\\n",
       "\t Austria & 42320   & 200809  & per101  & 0      \\\\\n",
       "\t Austria & 42110   & 200809  & per101  & 0      \\\\\n",
       "\\end{tabular}\n"
      ],
      "text/markdown": [
       "\n",
       "| countryname | party | date | category | catcount |\n",
       "|---|---|---|---|---|\n",
       "| Austria | 42420   | 199010  | per101  | 0       |\n",
       "| Austria | 42110   | 199010  | per101  | 0       |\n",
       "| Austria | 42320   | 199010  | per101  | 0       |\n",
       "| Austria | 42520   | 199010  | per101  | 5       |\n",
       "| Austria | 42420   | 199410  | per101  | 0       |\n",
       "| Austria | 42421   | 199410  | per101  | 0       |\n",
       "| Austria | 42110   | 199410  | per101  | 0       |\n",
       "| Austria | 42320   | 199410  | per101  | 0       |\n",
       "| Austria | 42520   | 199410  | per101  | 0       |\n",
       "| Austria | 42520   | 199512  | per101  | 0       |\n",
       "| Austria | 42110   | 199512  | per101  | 0       |\n",
       "| Austria | 42320   | 199512  | per101  | 0       |\n",
       "| Austria | 42420   | 199512  | per101  | 0       |\n",
       "| Austria | 42421   | 199512  | per101  | 0       |\n",
       "| Austria | 42420   | 199910  | per101  | 1       |\n",
       "| Austria | 42110   | 199910  | per101  | 0       |\n",
       "| Austria | 42320   | 199910  | per101  | 0       |\n",
       "| Austria | 42520   | 199910  | per101  | 0       |\n",
       "| Austria | 42520   | 200211  | per101  | 7       |\n",
       "| Austria | 42320   | 200211  | per101  | 0       |\n",
       "| Austria | 42110   | 200211  | per101  | 0       |\n",
       "| Austria | 42220   | 200211  | per101  | 0       |\n",
       "| Austria | 42420   | 200211  | per101  | 0       |\n",
       "| Austria | 42110   | 200610  | per101  | 0       |\n",
       "| Austria | 42710   | 200610  | per101  | 0       |\n",
       "| Austria | 42420   | 200610  | per101  | 0       |\n",
       "| Austria | 42520   | 200610  | per101  | 0       |\n",
       "| Austria | 42320   | 200610  | per101  | 0       |\n",
       "| Austria | 42320   | 200809  | per101  | 0       |\n",
       "| Austria | 42110   | 200809  | per101  | 0       |\n",
       "\n"
      ],
      "text/plain": [
       "   countryname party date   category catcount\n",
       "1  Austria     42420 199010 per101   0       \n",
       "2  Austria     42110 199010 per101   0       \n",
       "3  Austria     42320 199010 per101   0       \n",
       "4  Austria     42520 199010 per101   5       \n",
       "5  Austria     42420 199410 per101   0       \n",
       "6  Austria     42421 199410 per101   0       \n",
       "7  Austria     42110 199410 per101   0       \n",
       "8  Austria     42320 199410 per101   0       \n",
       "9  Austria     42520 199410 per101   0       \n",
       "10 Austria     42520 199512 per101   0       \n",
       "11 Austria     42110 199512 per101   0       \n",
       "12 Austria     42320 199512 per101   0       \n",
       "13 Austria     42420 199512 per101   0       \n",
       "14 Austria     42421 199512 per101   0       \n",
       "15 Austria     42420 199910 per101   1       \n",
       "16 Austria     42110 199910 per101   0       \n",
       "17 Austria     42320 199910 per101   0       \n",
       "18 Austria     42520 199910 per101   0       \n",
       "19 Austria     42520 200211 per101   7       \n",
       "20 Austria     42320 200211 per101   0       \n",
       "21 Austria     42110 200211 per101   0       \n",
       "22 Austria     42220 200211 per101   0       \n",
       "23 Austria     42420 200211 per101   0       \n",
       "24 Austria     42110 200610 per101   0       \n",
       "25 Austria     42710 200610 per101   0       \n",
       "26 Austria     42420 200610 per101   0       \n",
       "27 Austria     42520 200610 per101   0       \n",
       "28 Austria     42320 200610 per101   0       \n",
       "29 Austria     42320 200809 per101   0       \n",
       "30 Austria     42110 200809 per101   0       "
      ]
     },
     "metadata": {},
     "output_type": "display_data"
    }
   ],
   "source": [
    "cmpdataLong <- melt(cmpdata,\n",
    "                    id.vars = c(\"countryname\", \"party\", \"date\"),\n",
    "                    measure.vars = names(cmpdata)[21:76],\n",
    "                    variable.name = \"category\",\n",
    "                    value.name = \"catcount\")\n",
    "head(cmpdataLong, 30)"
   ]
  },
  {
   "cell_type": "code",
   "execution_count": 40,
   "metadata": {},
   "outputs": [
    {
     "data": {
      "text/html": [
       "1571"
      ],
      "text/latex": [
       "1571"
      ],
      "text/markdown": [
       "1571"
      ],
      "text/plain": [
       "[1] 1571"
      ]
     },
     "metadata": {},
     "output_type": "display_data"
    }
   ],
   "source": [
    "max(cmpdataLong$catcount)"
   ]
  },
  {
   "cell_type": "code",
   "execution_count": 38,
   "metadata": {
    "scrolled": true,
    "slideshow": {
     "slide_type": "slide"
    }
   },
   "outputs": [
    {
     "data": {
      "text/html": [
       "<table>\n",
       "<thead><tr><th></th><th scope=col>countryname</th><th scope=col>party</th><th scope=col>date</th><th scope=col>category</th><th scope=col>catcount</th></tr></thead>\n",
       "<tbody>\n",
       "\t<tr><th scope=row>39675</th><td>Switzerland</td><td>43530      </td><td>199110     </td><td>per706     </td><td> 0         </td></tr>\n",
       "\t<tr><th scope=row>39676</th><td>Switzerland</td><td>43420      </td><td>199110     </td><td>per706     </td><td> 4         </td></tr>\n",
       "\t<tr><th scope=row>39677</th><td>Switzerland</td><td>43810      </td><td>199110     </td><td>per706     </td><td> 7         </td></tr>\n",
       "\t<tr><th scope=row>39678</th><td>Switzerland</td><td>43110      </td><td>199110     </td><td>per706     </td><td> 9         </td></tr>\n",
       "\t<tr><th scope=row>39679</th><td>Switzerland</td><td>43951      </td><td>199110     </td><td>per706     </td><td> 6         </td></tr>\n",
       "\t<tr><th scope=row>39680</th><td>Switzerland</td><td>43320      </td><td>199110     </td><td>per706     </td><td>12         </td></tr>\n",
       "\t<tr><th scope=row>39681</th><td>Switzerland</td><td>43710      </td><td>199110     </td><td>per706     </td><td> 0         </td></tr>\n",
       "\t<tr><th scope=row>39682</th><td>Switzerland</td><td>43520      </td><td>199110     </td><td>per706     </td><td> 8         </td></tr>\n",
       "\t<tr><th scope=row>39683</th><td>Switzerland</td><td>43321      </td><td>199510     </td><td>per706     </td><td> 5         </td></tr>\n",
       "\t<tr><th scope=row>39684</th><td>Switzerland</td><td>43110      </td><td>199510     </td><td>per706     </td><td> 3         </td></tr>\n",
       "\t<tr><th scope=row>39685</th><td>Switzerland</td><td>43810      </td><td>199510     </td><td>per706     </td><td> 4         </td></tr>\n",
       "\t<tr><th scope=row>39686</th><td>Switzerland</td><td>43320      </td><td>199510     </td><td>per706     </td><td>14         </td></tr>\n",
       "\t<tr><th scope=row>39687</th><td>Switzerland</td><td>43520      </td><td>199510     </td><td>per706     </td><td> 5         </td></tr>\n",
       "\t<tr><th scope=row>39688</th><td>Switzerland</td><td>43530      </td><td>199510     </td><td>per706     </td><td> 0         </td></tr>\n",
       "\t<tr><th scope=row>39689</th><td>Switzerland</td><td>43420      </td><td>199510     </td><td>per706     </td><td> 4         </td></tr>\n",
       "\t<tr><th scope=row>39690</th><td>Switzerland</td><td>43110      </td><td>199910     </td><td>per706     </td><td>34         </td></tr>\n",
       "\t<tr><th scope=row>39691</th><td>Switzerland</td><td>43520      </td><td>199910     </td><td>per706     </td><td>14         </td></tr>\n",
       "\t<tr><th scope=row>39692</th><td>Switzerland</td><td>43320      </td><td>199910     </td><td>per706     </td><td>49         </td></tr>\n",
       "\t<tr><th scope=row>39693</th><td>Switzerland</td><td>43810      </td><td>199910     </td><td>per706     </td><td>23         </td></tr>\n",
       "\t<tr><th scope=row>39694</th><td>Switzerland</td><td>43420      </td><td>199910     </td><td>per706     </td><td> 0         </td></tr>\n",
       "\t<tr><th scope=row>39695</th><td>Switzerland</td><td>43530      </td><td>199910     </td><td>per706     </td><td> 6         </td></tr>\n",
       "\t<tr><th scope=row>39696</th><td>Switzerland</td><td>43320      </td><td>200310     </td><td>per706     </td><td>29         </td></tr>\n",
       "\t<tr><th scope=row>39697</th><td>Switzerland</td><td>43530      </td><td>200310     </td><td>per706     </td><td> 3         </td></tr>\n",
       "\t<tr><th scope=row>39698</th><td>Switzerland</td><td>43110      </td><td>200310     </td><td>per706     </td><td> 0         </td></tr>\n",
       "\t<tr><th scope=row>39699</th><td>Switzerland</td><td>43520      </td><td>200310     </td><td>per706     </td><td> 3         </td></tr>\n",
       "\t<tr><th scope=row>39700</th><td>Switzerland</td><td>43711      </td><td>200310     </td><td>per706     </td><td> 2         </td></tr>\n",
       "\t<tr><th scope=row>39701</th><td>Switzerland</td><td>43810      </td><td>200310     </td><td>per706     </td><td>28         </td></tr>\n",
       "\t<tr><th scope=row>39702</th><td>Switzerland</td><td>43420      </td><td>200310     </td><td>per706     </td><td> 7         </td></tr>\n",
       "\t<tr><th scope=row>39703</th><td>Switzerland</td><td>43531      </td><td>200310     </td><td>per706     </td><td> 0         </td></tr>\n",
       "\t<tr><th scope=row>39704</th><td>Switzerland</td><td>43220      </td><td>200310     </td><td>per706     </td><td> 2         </td></tr>\n",
       "</tbody>\n",
       "</table>\n"
      ],
      "text/latex": [
       "\\begin{tabular}{r|lllll}\n",
       "  & countryname & party & date & category & catcount\\\\\n",
       "\\hline\n",
       "\t39675 & Switzerland & 43530       & 199110      & per706      &  0         \\\\\n",
       "\t39676 & Switzerland & 43420       & 199110      & per706      &  4         \\\\\n",
       "\t39677 & Switzerland & 43810       & 199110      & per706      &  7         \\\\\n",
       "\t39678 & Switzerland & 43110       & 199110      & per706      &  9         \\\\\n",
       "\t39679 & Switzerland & 43951       & 199110      & per706      &  6         \\\\\n",
       "\t39680 & Switzerland & 43320       & 199110      & per706      & 12         \\\\\n",
       "\t39681 & Switzerland & 43710       & 199110      & per706      &  0         \\\\\n",
       "\t39682 & Switzerland & 43520       & 199110      & per706      &  8         \\\\\n",
       "\t39683 & Switzerland & 43321       & 199510      & per706      &  5         \\\\\n",
       "\t39684 & Switzerland & 43110       & 199510      & per706      &  3         \\\\\n",
       "\t39685 & Switzerland & 43810       & 199510      & per706      &  4         \\\\\n",
       "\t39686 & Switzerland & 43320       & 199510      & per706      & 14         \\\\\n",
       "\t39687 & Switzerland & 43520       & 199510      & per706      &  5         \\\\\n",
       "\t39688 & Switzerland & 43530       & 199510      & per706      &  0         \\\\\n",
       "\t39689 & Switzerland & 43420       & 199510      & per706      &  4         \\\\\n",
       "\t39690 & Switzerland & 43110       & 199910      & per706      & 34         \\\\\n",
       "\t39691 & Switzerland & 43520       & 199910      & per706      & 14         \\\\\n",
       "\t39692 & Switzerland & 43320       & 199910      & per706      & 49         \\\\\n",
       "\t39693 & Switzerland & 43810       & 199910      & per706      & 23         \\\\\n",
       "\t39694 & Switzerland & 43420       & 199910      & per706      &  0         \\\\\n",
       "\t39695 & Switzerland & 43530       & 199910      & per706      &  6         \\\\\n",
       "\t39696 & Switzerland & 43320       & 200310      & per706      & 29         \\\\\n",
       "\t39697 & Switzerland & 43530       & 200310      & per706      &  3         \\\\\n",
       "\t39698 & Switzerland & 43110       & 200310      & per706      &  0         \\\\\n",
       "\t39699 & Switzerland & 43520       & 200310      & per706      &  3         \\\\\n",
       "\t39700 & Switzerland & 43711       & 200310      & per706      &  2         \\\\\n",
       "\t39701 & Switzerland & 43810       & 200310      & per706      & 28         \\\\\n",
       "\t39702 & Switzerland & 43420       & 200310      & per706      &  7         \\\\\n",
       "\t39703 & Switzerland & 43531       & 200310      & per706      &  0         \\\\\n",
       "\t39704 & Switzerland & 43220       & 200310      & per706      &  2         \\\\\n",
       "\\end{tabular}\n"
      ],
      "text/markdown": [
       "\n",
       "| <!--/--> | countryname | party | date | category | catcount |\n",
       "|---|---|---|---|---|---|\n",
       "| 39675 | Switzerland | 43530       | 199110      | per706      |  0          |\n",
       "| 39676 | Switzerland | 43420       | 199110      | per706      |  4          |\n",
       "| 39677 | Switzerland | 43810       | 199110      | per706      |  7          |\n",
       "| 39678 | Switzerland | 43110       | 199110      | per706      |  9          |\n",
       "| 39679 | Switzerland | 43951       | 199110      | per706      |  6          |\n",
       "| 39680 | Switzerland | 43320       | 199110      | per706      | 12          |\n",
       "| 39681 | Switzerland | 43710       | 199110      | per706      |  0          |\n",
       "| 39682 | Switzerland | 43520       | 199110      | per706      |  8          |\n",
       "| 39683 | Switzerland | 43321       | 199510      | per706      |  5          |\n",
       "| 39684 | Switzerland | 43110       | 199510      | per706      |  3          |\n",
       "| 39685 | Switzerland | 43810       | 199510      | per706      |  4          |\n",
       "| 39686 | Switzerland | 43320       | 199510      | per706      | 14          |\n",
       "| 39687 | Switzerland | 43520       | 199510      | per706      |  5          |\n",
       "| 39688 | Switzerland | 43530       | 199510      | per706      |  0          |\n",
       "| 39689 | Switzerland | 43420       | 199510      | per706      |  4          |\n",
       "| 39690 | Switzerland | 43110       | 199910      | per706      | 34          |\n",
       "| 39691 | Switzerland | 43520       | 199910      | per706      | 14          |\n",
       "| 39692 | Switzerland | 43320       | 199910      | per706      | 49          |\n",
       "| 39693 | Switzerland | 43810       | 199910      | per706      | 23          |\n",
       "| 39694 | Switzerland | 43420       | 199910      | per706      |  0          |\n",
       "| 39695 | Switzerland | 43530       | 199910      | per706      |  6          |\n",
       "| 39696 | Switzerland | 43320       | 200310      | per706      | 29          |\n",
       "| 39697 | Switzerland | 43530       | 200310      | per706      |  3          |\n",
       "| 39698 | Switzerland | 43110       | 200310      | per706      |  0          |\n",
       "| 39699 | Switzerland | 43520       | 200310      | per706      |  3          |\n",
       "| 39700 | Switzerland | 43711       | 200310      | per706      |  2          |\n",
       "| 39701 | Switzerland | 43810       | 200310      | per706      | 28          |\n",
       "| 39702 | Switzerland | 43420       | 200310      | per706      |  7          |\n",
       "| 39703 | Switzerland | 43531       | 200310      | per706      |  0          |\n",
       "| 39704 | Switzerland | 43220       | 200310      | per706      |  2          |\n",
       "\n"
      ],
      "text/plain": [
       "      countryname party date   category catcount\n",
       "39675 Switzerland 43530 199110 per706    0      \n",
       "39676 Switzerland 43420 199110 per706    4      \n",
       "39677 Switzerland 43810 199110 per706    7      \n",
       "39678 Switzerland 43110 199110 per706    9      \n",
       "39679 Switzerland 43951 199110 per706    6      \n",
       "39680 Switzerland 43320 199110 per706   12      \n",
       "39681 Switzerland 43710 199110 per706    0      \n",
       "39682 Switzerland 43520 199110 per706    8      \n",
       "39683 Switzerland 43321 199510 per706    5      \n",
       "39684 Switzerland 43110 199510 per706    3      \n",
       "39685 Switzerland 43810 199510 per706    4      \n",
       "39686 Switzerland 43320 199510 per706   14      \n",
       "39687 Switzerland 43520 199510 per706    5      \n",
       "39688 Switzerland 43530 199510 per706    0      \n",
       "39689 Switzerland 43420 199510 per706    4      \n",
       "39690 Switzerland 43110 199910 per706   34      \n",
       "39691 Switzerland 43520 199910 per706   14      \n",
       "39692 Switzerland 43320 199910 per706   49      \n",
       "39693 Switzerland 43810 199910 per706   23      \n",
       "39694 Switzerland 43420 199910 per706    0      \n",
       "39695 Switzerland 43530 199910 per706    6      \n",
       "39696 Switzerland 43320 200310 per706   29      \n",
       "39697 Switzerland 43530 200310 per706    3      \n",
       "39698 Switzerland 43110 200310 per706    0      \n",
       "39699 Switzerland 43520 200310 per706    3      \n",
       "39700 Switzerland 43711 200310 per706    2      \n",
       "39701 Switzerland 43810 200310 per706   28      \n",
       "39702 Switzerland 43420 200310 per706    7      \n",
       "39703 Switzerland 43531 200310 per706    0      \n",
       "39704 Switzerland 43220 200310 per706    2      "
      ]
     },
     "metadata": {},
     "output_type": "display_data"
    }
   ],
   "source": [
    "tail(cmpdataLong, 30)"
   ]
  },
  {
   "cell_type": "code",
   "execution_count": 53,
   "metadata": {
    "slideshow": {
     "slide_type": "slide"
    }
   },
   "outputs": [
    {
     "data": {
      "image/png": "[encoded data removed]",
      "text/plain": [
       "plot without title"
      ]
     },
     "metadata": {},
     "output_type": "display_data"
    }
   ],
   "source": [
    "cmpdataLong <- mutate(cmpdataLong, year = floor(date / 100))\n",
    "cmpdataLong %>% \n",
    "    group_by(category, year) %>% \n",
    "    summarize(total = sum(catcount)) %>% \n",
    "    filter(category %in% c(\"per108\", \"per110\")) %>% \n",
    "    # filter is a lambda-like logical if-else function\n",
    "    ggplot(aes(x = year, y = total, colour = category, group = category)) + geom_line()"
   ]
  },
  {
   "cell_type": "code",
   "execution_count": 48,
   "metadata": {},
   "outputs": [
    {
     "data": {
      "text/html": [
       "<table>\n",
       "<thead><tr><th scope=col>total</th></tr></thead>\n",
       "<tbody>\n",
       "\t<tr><td>662563</td></tr>\n",
       "</tbody>\n",
       "</table>\n"
      ],
      "text/latex": [
       "\\begin{tabular}{r|l}\n",
       " total\\\\\n",
       "\\hline\n",
       "\t 662563\\\\\n",
       "\\end{tabular}\n"
      ],
      "text/markdown": [
       "\n",
       "| total |\n",
       "|---|\n",
       "| 662563 |\n",
       "\n"
      ],
      "text/plain": [
       "  total \n",
       "1 662563"
      ]
     },
     "metadata": {},
     "output_type": "display_data"
    }
   ],
   "source": [
    "cmpdataLong %>% summarize(total = sum(catcount))"
   ]
  },
  {
   "cell_type": "code",
   "execution_count": 52,
   "metadata": {},
   "outputs": [],
   "source": [
    "?mutate"
   ]
  },
  {
   "cell_type": "code",
   "execution_count": 54,
   "metadata": {},
   "outputs": [
    {
     "data": {
      "text/html": [
       "<pre class=language-r><code>function (name, pos = -1L, envir = as.environment(pos), all.names = FALSE, \n",
       "<span style=white-space:pre-wrap>    pattern, sorted = TRUE) </span>\n",
       "{\n",
       "<span style=white-space:pre-wrap>    if (!missing(name)) {</span>\n",
       "<span style=white-space:pre-wrap>        pos &lt;- tryCatch(name, error = function(e) e)</span>\n",
       "<span style=white-space:pre-wrap>        if (inherits(pos, \"error\")) {</span>\n",
       "<span style=white-space:pre-wrap>            name &lt;- substitute(name)</span>\n",
       "<span style=white-space:pre-wrap>            if (!is.character(name)) </span>\n",
       "<span style=white-space:pre-wrap>                name &lt;- deparse(name)</span>\n",
       "<span style=white-space:pre-wrap>            warning(gettextf(\"%s converted to character string\", </span>\n",
       "<span style=white-space:pre-wrap>                sQuote(name)), domain = NA)</span>\n",
       "<span style=white-space:pre-wrap>            pos &lt;- name</span>\n",
       "<span style=white-space:pre-wrap>        }</span>\n",
       "<span style=white-space:pre-wrap>    }</span>\n",
       "<span style=white-space:pre-wrap>    all.names &lt;- .Internal(ls(envir, all.names, sorted))</span>\n",
       "<span style=white-space:pre-wrap>    if (!missing(pattern)) {</span>\n",
       "<span style=white-space:pre-wrap>        if ((ll &lt;- length(grep(\"[\", pattern, fixed = TRUE))) &amp;&amp; </span>\n",
       "<span style=white-space:pre-wrap>            ll != length(grep(\"]\", pattern, fixed = TRUE))) {</span>\n",
       "<span style=white-space:pre-wrap>            if (pattern == \"[\") {</span>\n",
       "<span style=white-space:pre-wrap>                pattern &lt;- \"\\\\[\"</span>\n",
       "<span style=white-space:pre-wrap>                warning(\"replaced regular expression pattern '[' by  '\\\\\\\\['\")</span>\n",
       "<span style=white-space:pre-wrap>            }</span>\n",
       "<span style=white-space:pre-wrap>            else if (length(grep(\"[^\\\\\\\\]\\\\[&lt;-\", pattern))) {</span>\n",
       "<span style=white-space:pre-wrap>                pattern &lt;- sub(\"\\\\[&lt;-\", \"\\\\\\\\\\\\[&lt;-\", pattern)</span>\n",
       "<span style=white-space:pre-wrap>                warning(\"replaced '[&lt;-' by '\\\\\\\\[&lt;-' in regular expression pattern\")</span>\n",
       "<span style=white-space:pre-wrap>            }</span>\n",
       "<span style=white-space:pre-wrap>        }</span>\n",
       "<span style=white-space:pre-wrap>        grep(pattern, all.names, value = TRUE)</span>\n",
       "<span style=white-space:pre-wrap>    }</span>\n",
       "<span style=white-space:pre-wrap>    else all.names</span>\n",
       "}</code></pre>"
      ],
      "text/latex": [
       "\\begin{minted}{r}\n",
       "function (name, pos = -1L, envir = as.environment(pos), all.names = FALSE, \n",
       "    pattern, sorted = TRUE) \n",
       "\\{\n",
       "    if (!missing(name)) \\{\n",
       "        pos <- tryCatch(name, error = function(e) e)\n",
       "        if (inherits(pos, \"error\")) \\{\n",
       "            name <- substitute(name)\n",
       "            if (!is.character(name)) \n",
       "                name <- deparse(name)\n",
       "            warning(gettextf(\"\\%s converted to character string\", \n",
       "                sQuote(name)), domain = NA)\n",
       "            pos <- name\n",
       "        \\}\n",
       "    \\}\n",
       "    all.names <- .Internal(ls(envir, all.names, sorted))\n",
       "    if (!missing(pattern)) \\{\n",
       "        if ((ll <- length(grep(\"{[}\", pattern, fixed = TRUE))) \\&\\& \n",
       "            ll != length(grep(\"{]}\", pattern, fixed = TRUE))) \\{\n",
       "            if (pattern == \"{[}\") \\{\n",
       "                pattern <- \"\\textbackslash{}\\textbackslash{}{[}\"\n",
       "                warning(\"replaced regular expression pattern '{[}' by  '\\textbackslash{}\\textbackslash{}\\textbackslash{}\\textbackslash{}{[}'\")\n",
       "            \\}\n",
       "            else if (length(grep(\"{[}\\textasciicircum{}\\textbackslash{}\\textbackslash{}\\textbackslash{}\\textbackslash{}{]}\\textbackslash{}\\textbackslash{}{[}<-\", pattern))) \\{\n",
       "                pattern <- sub(\"\\textbackslash{}\\textbackslash{}{[}<-\", \"\\textbackslash{}\\textbackslash{}\\textbackslash{}\\textbackslash{}\\textbackslash{}\\textbackslash{}{[}<-\", pattern)\n",
       "                warning(\"replaced '{[}<-' by '\\textbackslash{}\\textbackslash{}\\textbackslash{}\\textbackslash{}{[}<-' in regular expression pattern\")\n",
       "            \\}\n",
       "        \\}\n",
       "        grep(pattern, all.names, value = TRUE)\n",
       "    \\}\n",
       "    else all.names\n",
       "\\}\n",
       "\\end{minted}"
      ],
      "text/markdown": [
       "```r\n",
       "function (name, pos = -1L, envir = as.environment(pos), all.names = FALSE, \n",
       "    pattern, sorted = TRUE) \n",
       "{\n",
       "    if (!missing(name)) {\n",
       "        pos <- tryCatch(name, error = function(e) e)\n",
       "        if (inherits(pos, \"error\")) {\n",
       "            name <- substitute(name)\n",
       "            if (!is.character(name)) \n",
       "                name <- deparse(name)\n",
       "            warning(gettextf(\"%s converted to character string\", \n",
       "                sQuote(name)), domain = NA)\n",
       "            pos <- name\n",
       "        }\n",
       "    }\n",
       "    all.names <- .Internal(ls(envir, all.names, sorted))\n",
       "    if (!missing(pattern)) {\n",
       "        if ((ll <- length(grep(\"[\", pattern, fixed = TRUE))) && \n",
       "            ll != length(grep(\"]\", pattern, fixed = TRUE))) {\n",
       "            if (pattern == \"[\") {\n",
       "                pattern <- \"\\\\[\"\n",
       "                warning(\"replaced regular expression pattern '[' by  '\\\\\\\\['\")\n",
       "            }\n",
       "            else if (length(grep(\"[^\\\\\\\\]\\\\[<-\", pattern))) {\n",
       "                pattern <- sub(\"\\\\[<-\", \"\\\\\\\\\\\\[<-\", pattern)\n",
       "                warning(\"replaced '[<-' by '\\\\\\\\[<-' in regular expression pattern\")\n",
       "            }\n",
       "        }\n",
       "        grep(pattern, all.names, value = TRUE)\n",
       "    }\n",
       "    else all.names\n",
       "}\n",
       "```"
      ],
      "text/plain": [
       "function (name, pos = -1L, envir = as.environment(pos), all.names = FALSE, \n",
       "    pattern, sorted = TRUE) \n",
       "{\n",
       "    if (!missing(name)) {\n",
       "        pos <- tryCatch(name, error = function(e) e)\n",
       "        if (inherits(pos, \"error\")) {\n",
       "            name <- substitute(name)\n",
       "            if (!is.character(name)) \n",
       "                name <- deparse(name)\n",
       "            warning(gettextf(\"%s converted to character string\", \n",
       "                sQuote(name)), domain = NA)\n",
       "            pos <- name\n",
       "        }\n",
       "    }\n",
       "    all.names <- .Internal(ls(envir, all.names, sorted))\n",
       "    if (!missing(pattern)) {\n",
       "        if ((ll <- length(grep(\"[\", pattern, fixed = TRUE))) && \n",
       "            ll != length(grep(\"]\", pattern, fixed = TRUE))) {\n",
       "            if (pattern == \"[\") {\n",
       "                pattern <- \"\\\\[\"\n",
       "                warning(\"replaced regular expression pattern '[' by  '\\\\\\\\['\")\n",
       "            }\n",
       "            else if (length(grep(\"[^\\\\\\\\]\\\\[<-\", pattern))) {\n",
       "                pattern <- sub(\"\\\\[<-\", \"\\\\\\\\\\\\[<-\", pattern)\n",
       "                warning(\"replaced '[<-' by '\\\\\\\\[<-' in regular expression pattern\")\n",
       "            }\n",
       "        }\n",
       "        grep(pattern, all.names, value = TRUE)\n",
       "    }\n",
       "    else all.names\n",
       "}\n",
       "<bytecode: 0x7f86e3331d28>\n",
       "<environment: namespace:base>"
      ]
     },
     "metadata": {},
     "output_type": "display_data"
    }
   ],
   "source": [
    "lala <- read.json()"
   ]
  },
  {
   "cell_type": "code",
   "execution_count": null,
   "metadata": {},
   "outputs": [],
   "source": []
  }
 ],
 "metadata": {
  "celltoolbar": "Slideshow",
  "kernelspec": {
   "display_name": "R",
   "language": "R",
   "name": "ir"
  },
  "language_info": {
   "codemirror_mode": "r",
   "file_extension": ".r",
   "mimetype": "text/x-r-source",
   "name": "R",
   "pygments_lexer": "r",
   "version": "3.6.0"
  }
 },
 "nbformat": 4,
 "nbformat_minor": 2
}
